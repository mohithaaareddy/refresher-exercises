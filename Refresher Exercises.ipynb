{
 "cells": [
  {
   "cell_type": "markdown",
   "id": "1b404a8d",
   "metadata": {},
   "source": [
    "<span style=\"font-family: Arial; font-weight:bold;font-size:3em;color:#0e92ea;\">  Exercise 1: Strings, Lists and Dictionaries"
   ]
  },
  {
   "cell_type": "markdown",
   "id": "27cb87f0",
   "metadata": {},
   "source": [
    "<span style=\"font-family: Arial; font-weight:bold;font-size:1.5em;color:#06547R;\"> Name: Panagam Mohitha"
   ]
  },
  {
   "cell_type": "markdown",
   "id": "679088f7",
   "metadata": {},
   "source": [
    "<span style=\"font-family: Arial; font-weight:bold;font-size:1.5em;color:#00008B;\">1. Read the phrase “Quick Brown fox jumped over the lazy DOG”\n",
    "- <span style=\"font-family: Arial; font-weight:bold;font-size:1.5em;color:#00008B;\"> Count the number of alphabets and words in the phrase\n"
   ]
  },
  {
   "cell_type": "code",
   "execution_count": 1,
   "id": "a9b21a95",
   "metadata": {
    "scrolled": true
   },
   "outputs": [
    {
     "name": "stdout",
     "output_type": "stream",
     "text": [
      "The original string is : Quick Brown fox jumped over the lazy DOG\n",
      "The number of words in string are : 8\n",
      "The number of alphabets in string are :  40\n"
     ]
    }
   ],
   "source": [
    "test_string = \"Quick Brown fox jumped over the lazy DOG\"\n",
    "print(\"The original string is : \" + test_string)\n",
    "res = len(test_string.split())\n",
    "print(\"The number of words in string are : \" + str(res))\n",
    "print(\"The number of alphabets in string are : \", len(test_string))"
   ]
  },
  {
   "cell_type": "markdown",
   "id": "b2d19583",
   "metadata": {},
   "source": [
    "- <span style=\"font-family: Arial; font-weight:bold;font-size:1.5em;color:#00008B;\">Count the frequency of all alphabets in the phrase\n"
   ]
  },
  {
   "cell_type": "code",
   "execution_count": 2,
   "id": "6bcd2833",
   "metadata": {},
   "outputs": [
    {
     "name": "stdout",
     "output_type": "stream",
     "text": [
      "Count of all characters is :\n",
      " Counter({' ': 7, 'o': 4, 'e': 3, 'u': 2, 'r': 2, 'd': 2, 'q': 1, 'i': 1, 'c': 1, 'k': 1, 'b': 1, 'w': 1, 'n': 1, 'f': 1, 'x': 1, 'j': 1, 'm': 1, 'p': 1, 'v': 1, 't': 1, 'h': 1, 'l': 1, 'a': 1, 'z': 1, 'y': 1, 'g': 1})\n"
     ]
    }
   ],
   "source": [
    "from collections import Counter\n",
    "test_str = \"Quick Brown fox jumped over the lazy DOG\"\n",
    "test_str1=test_str.lower()\n",
    "res = Counter(test_str1)\n",
    "print(\"Count of all characters is :\\n \"\n",
    "      + str(res))"
   ]
  },
  {
   "cell_type": "markdown",
   "id": "e8a8ef96",
   "metadata": {},
   "source": [
    "- <span style=\"font-family: Arial; font-weight:bold;font-size:1.5em;color:#00008B;\">Convert the first alphabet of all words to capital\n"
   ]
  },
  {
   "cell_type": "code",
   "execution_count": 3,
   "id": "6838897e",
   "metadata": {},
   "outputs": [
    {
     "name": "stdout",
     "output_type": "stream",
     "text": [
      "The original string is : Quick Brown fox jumped over the lazy DOG\n",
      "The string after uppercasing initial character : Quick Brown fox jumped over the lazy DOG\n"
     ]
    }
   ],
   "source": [
    "test_str = \"Quick Brown fox jumped over the lazy DOG\"\n",
    "# printing original string\n",
    "print(\"The original string is : \" + str(test_str))\n",
    " \n",
    "# Using upper() + string slicing\n",
    "# Initial character upper case\n",
    "res = test_str[0].upper() + test_str[1:]\n",
    " \n",
    "# printing result\n",
    "print(\"The string after uppercasing initial character : \" + str(res))"
   ]
  },
  {
   "cell_type": "code",
   "execution_count": 4,
   "id": "0da290c8",
   "metadata": {},
   "outputs": [
    {
     "name": "stdout",
     "output_type": "stream",
     "text": [
      "String before: Quick Brown fox jumped over the lazy DOG\n",
      "String after: Quick Brown Fox Jumped Over The Lazy DOG\n"
     ]
    }
   ],
   "source": [
    "s = \"Quick Brown fox jumped over the lazy DOG\"\n",
    "print(\"String before:\", s)\n",
    "a = s.split()\n",
    "res = []\n",
    "for i in a:\n",
    "    x = i[0].upper()+i[1:]\n",
    "    res.append(x)\n",
    "res = \" \".join(res)\n",
    "print(\"String after:\", res)"
   ]
  },
  {
   "cell_type": "markdown",
   "id": "7239f2e2",
   "metadata": {},
   "source": [
    "- <span style=\"font-family: Arial; font-weight:bold;font-size:1.5em;color:#00008B;\">Print the phrase with every alternate word in reverse"
   ]
  },
  {
   "cell_type": "code",
   "execution_count": 5,
   "id": "dd1b6050",
   "metadata": {},
   "outputs": [
    {
     "name": "stdout",
     "output_type": "stream",
     "text": [
      "ehT quick nworb fox spmuj over eht lazy god\n"
     ]
    }
   ],
   "source": [
    "def main(sentence, ignores):\n",
    "    for phrase in ignores:\n",
    "        reversed_phrase = ' '.join([word[::-1] for word in phrase.split()])\n",
    "        sentence = sentence.replace(phrase, reversed_phrase)\n",
    "\n",
    "    return ' '.join(word[::-1] for word in sentence.split())\n",
    "\n",
    "print(main('The quick brown fox jumps over the lazy dog', ['quick','fox','over','lazy']))"
   ]
  },
  {
   "cell_type": "markdown",
   "id": "9c4d0ddb",
   "metadata": {},
   "source": [
    "<span style=\"font-family: Arial; font-weight:bold;font-size:1.5em;color:#00008B;\">2. Read the phrase “Everybody likes to eat pizzas and ice creams”\n",
    "- <span style=\"font-family: Arial; font-weight:bold;font-size:1.5em;color:#00008B;\"> Separate all words into a list"
   ]
  },
  {
   "cell_type": "code",
   "execution_count": 6,
   "id": "771b9e8f",
   "metadata": {},
   "outputs": [
    {
     "data": {
      "text/plain": [
       "['Everybody', 'likes', 'to', 'eat', 'pizzas', 'and', 'ice', 'creams']"
      ]
     },
     "execution_count": 6,
     "metadata": {},
     "output_type": "execute_result"
    }
   ],
   "source": [
    "s=\"Everybody likes to eat pizzas and ice creams\"\n",
    "list=s.split()\n",
    "list"
   ]
  },
  {
   "cell_type": "markdown",
   "id": "be407a60",
   "metadata": {},
   "source": [
    "- <span style=\"font-family: Arial; font-weight:bold;font-size:1.5em;color:#00008B;\">Create a dictionary with the words and length of each word"
   ]
  },
  {
   "cell_type": "code",
   "execution_count": 7,
   "id": "b973dd60",
   "metadata": {},
   "outputs": [
    {
     "name": "stdout",
     "output_type": "stream",
     "text": [
      "e : ['everybody', 'eat'] 7\n",
      "l : ['likes'] 7\n",
      "t : ['to'] 7\n",
      "p : ['pizzas'] 7\n",
      "a : ['and'] 7\n",
      "i : ['ice'] 7\n",
      "c : ['creams'] 7\n"
     ]
    }
   ],
   "source": [
    "s=\"everybody likes to eat pizzas and ice creams\"\n",
    "l=s.split()\n",
    "d={}\n",
    "for word in l:\n",
    "    if(word[0] not in d.keys()):\n",
    "        d[word[0]]=[]\n",
    "        d[word[0]].append(word)\n",
    "    else:\n",
    "        if(word not in d[word[0]]):\n",
    "          d[word[0]].append(word)\n",
    "for k,v in d.items():\n",
    "        print(k,\":\",v, len(d))"
   ]
  },
  {
   "cell_type": "markdown",
   "id": "b0460448",
   "metadata": {},
   "source": [
    "- <span style=\"font-family: Arial; font-weight:bold;font-size:1.5em;color:#00008B;\">Combine the phrases mentioned above with comma as a separator "
   ]
  },
  {
   "cell_type": "code",
   "execution_count": 8,
   "id": "89dd5a21",
   "metadata": {},
   "outputs": [
    {
     "data": {
      "text/plain": [
       "dict_values([['everybody', 'eat'], ['likes'], ['to'], ['pizzas'], ['and'], ['ice'], ['creams']])"
      ]
     },
     "execution_count": 8,
     "metadata": {},
     "output_type": "execute_result"
    }
   ],
   "source": [
    "d.values()"
   ]
  },
  {
   "cell_type": "markdown",
   "id": "a31fce93",
   "metadata": {},
   "source": [
    "<span style=\"font-family: Arial; font-weight:bold;font-size:1.5em;color:#00008B;\">3. Create a program to read a phrase and highlight the word which does not contain any vowel. Run this code on the phrases mentioned above.\n"
   ]
  },
  {
   "cell_type": "code",
   "execution_count": 13,
   "id": "7a09d4ba",
   "metadata": {},
   "outputs": [
    {
     "name": "stdout",
     "output_type": "stream",
     "text": [
      "Everybody likes to eat pizzas and ice creams The quick brown fox jumps over the lazy dog "
     ]
    }
   ],
   "source": [
    "def highlight_word_without_vowel(phrase):\n",
    "    words = phrase.split()  # split phrase into a list of words\n",
    "    for word in words:\n",
    "        vowels = set('aeiouAEIOU')\n",
    "        if not any(char in vowels for char in word):  # check if word contains any vowel\n",
    "            print(f\"\\033[1;31m{word}\\033[0m\", end=\" \")  # highlight the word in red\n",
    "        else:\n",
    "            print(word, end=\" \")\n",
    "\n",
    "phrase =\"Everybody likes to eat pizzas and ice creams\"\n",
    "highlight_word_without_vowel(phrase)\n",
    "phrase =\"The quick brown fox jumps over the lazy dog\"\n",
    "highlight_word_without_vowel(phrase)"
   ]
  },
  {
   "cell_type": "markdown",
   "id": "3605fd6c",
   "metadata": {},
   "source": [
    "<span style=\"font-family: Arial; font-weight:bold;font-size:1.5em;color:#00008B;\">4. Create the sum of the infinite series X = ½ + ¼ + …… using while loop with convergence criteria for error <0.0001\n"
   ]
  },
  {
   "cell_type": "code",
   "execution_count": 6,
   "id": "361ffed2",
   "metadata": {},
   "outputs": [
    {
     "name": "stdout",
     "output_type": "stream",
     "text": [
      "The sum of the infinite series X = ½ + ¼ + …… is: 0.99993896484375\n"
     ]
    }
   ],
   "source": [
    "error = 1\n",
    "sum = 0\n",
    "n = 1\n",
    "\n",
    "while error >= 0.0001:\n",
    "    term = 1/(2**n)\n",
    "    sum_prev = sum\n",
    "    sum += term\n",
    "    error = abs(sum - sum_prev)\n",
    "    n += 1\n",
    "\n",
    "print(f\"The sum of the infinite series X = ½ + ¼ + …… is: {sum}\")\n"
   ]
  },
  {
   "cell_type": "markdown",
   "id": "ecb5c7eb",
   "metadata": {},
   "source": [
    "<span style=\"font-family: Arial; font-weight:bold;font-size:1.5em;color:#00008B;\">5. Store maximum possible decimals for e and pi and find the frequency of digits in the decimal places \n"
   ]
  },
  {
   "cell_type": "code",
   "execution_count": 5,
   "id": "6582aa7d",
   "metadata": {},
   "outputs": [
    {
     "name": "stdout",
     "output_type": "stream",
     "text": [
      "Enter the number of decimal places to calculate: 50\n",
      "Digit frequencies for e decimals (up to 50 decimal places):\n",
      "{'4': 2, '1': 2, '9': 1, '2': 2, '5': 2, '0': 1, '7': 1, '8': 4}\n",
      "\n",
      "Digit frequencies for pi decimals (up to 50 decimal places):\n",
      "{'4': 1, '1': 2, '3': 2, '9': 3, '2': 1, '5': 3, '6': 1, '7': 1, '8': 1}\n"
     ]
    }
   ],
   "source": [
    "import math\n",
    "\n",
    "def find_digit_frequencies(decimal_places):\n",
    "    e_decimals = str(math.e)[2:decimal_places+2]  # extract decimal places for e\n",
    "    pi_decimals = str(math.pi)[2:decimal_places+2]  # extract decimal places for pi\n",
    "    \n",
    "    e_digit_freq = {digit: e_decimals.count(digit) for digit in set(e_decimals)}  # count digit frequencies in e decimals\n",
    "    pi_digit_freq = {digit: pi_decimals.count(digit) for digit in set(pi_decimals)}  # count digit frequencies in pi decimals\n",
    "    \n",
    "    print(f\"Digit frequencies for e decimals (up to {decimal_places} decimal places):\")\n",
    "    print(e_digit_freq)\n",
    "    \n",
    "    print(f\"\\nDigit frequencies for pi decimals (up to {decimal_places} decimal places):\")\n",
    "    print(pi_digit_freq)\n",
    "\n",
    "decimal_places = int(input(\"Enter the number of decimal places to calculate: \"))\n",
    "find_digit_frequencies(decimal_places)\n"
   ]
  },
  {
   "cell_type": "markdown",
   "id": "fea0ca11",
   "metadata": {},
   "source": [
    "<span style=\"font-family: Arial; font-weight:bold;font-size:3em;color:#0e92ea;\"> Exercise 2:Numpy"
   ]
  },
  {
   "cell_type": "markdown",
   "id": "0b447b4e",
   "metadata": {},
   "source": [
    "<span style=\"font-family: Arial; font-weight:bold;font-size:1.5em;color:#00008B;\">1. Creating a Sampling Mean Distribution\n",
    "- <span style=\"font-family: Arial; font-weight:bold;font-size:1.5em;color:#00008B;\">Create an array of 10,000 random numbers from chi-square distribution. This we would call Population Sample (Hint : Use np.random.chisquare(df=5,size=10000) to generate numbers)\n",
    "- <span style=\"font-family: Arial; font-weight:bold;font-size:1.5em;color:#00008B;\">Create permutation of the population sample created (Syntax : np.random.permutation(array) )\n",
    "- <span style=\"font-family: Arial; font-weight:bold;font-size:1.5em;color:#00008B;\">Create a Test sample using first 1000 values of the permuted population sample\n",
    "- <span style=\"font-family: Arial; font-weight:bold;font-size:1.5em;color:#00008B;\">Calculated the mean of the Test Sample and store it in a list\n",
    "- <span style=\"font-family: Arial; font-weight:bold;font-size:1.5em;color:#00008B;\">Loop last 3 steps 10,000 times"
   ]
  },
  {
   "cell_type": "code",
   "execution_count": 11,
   "id": "b96e5e19",
   "metadata": {},
   "outputs": [],
   "source": [
    "import numpy as np\n",
    "import matplotlib.pyplot as plt"
   ]
  },
  {
   "cell_type": "code",
   "execution_count": 13,
   "id": "192b2532",
   "metadata": {
    "scrolled": true
   },
   "outputs": [],
   "source": [
    "pop_sample= np.random.chisquare(df=5,size=10000)\n",
    "p= np.random.permutation(pop_sample)"
   ]
  },
  {
   "cell_type": "code",
   "execution_count": 14,
   "id": "3dfee5ae",
   "metadata": {},
   "outputs": [
    {
     "data": {
      "text/plain": [
       "5.075839554636029"
      ]
     },
     "execution_count": 14,
     "metadata": {},
     "output_type": "execute_result"
    }
   ],
   "source": [
    "mean_pop=pop_sample.mean()\n",
    "mean_pop"
   ]
  },
  {
   "cell_type": "code",
   "execution_count": 15,
   "id": "25bbb9a8",
   "metadata": {},
   "outputs": [],
   "source": [
    "test_sample = np.random.choice(p, 1000, replace=True)"
   ]
  },
  {
   "cell_type": "code",
   "execution_count": 16,
   "id": "816df52c",
   "metadata": {},
   "outputs": [
    {
     "data": {
      "text/plain": [
       "4.951224896269169"
      ]
     },
     "execution_count": 16,
     "metadata": {},
     "output_type": "execute_result"
    }
   ],
   "source": [
    "mean_p=test_sample.mean()\n",
    "mean_p"
   ]
  },
  {
   "cell_type": "code",
   "execution_count": 17,
   "id": "7fba7d3b",
   "metadata": {},
   "outputs": [],
   "source": [
    "sample_props = []\n",
    "for _ in range(10000):\n",
    "    sample = np.random.choice(pop_sample, 5, replace=True)\n",
    "    sample_props.append(sample.mean())"
   ]
  },
  {
   "cell_type": "code",
   "execution_count": 18,
   "id": "1180a16d",
   "metadata": {},
   "outputs": [
    {
     "data": {
      "text/plain": [
       "5.060233251397004"
      ]
     },
     "execution_count": 18,
     "metadata": {},
     "output_type": "execute_result"
    }
   ],
   "source": [
    "sample_props = np.array(sample_props)\n",
    "sample_props.mean()"
   ]
  },
  {
   "cell_type": "markdown",
   "id": "472e6600",
   "metadata": {},
   "source": [
    "<span style=\"font-family: Arial; font-weight:bold;font-size:1.5em;color:#00008B;\">2. Visualizing Sampling Mean Distribution and Population Distribution\n",
    "- <span style=\"font-family: Arial; font-weight:bold;font-size:1.5em;color:#00008B;\">Type: import matplotlib.pyplot as plt\n",
    "- <span style=\"font-family: Arial; font-weight:bold;font-size:1.5em;color:#00008B;\">In next line, type %pylab inline\n",
    "- <span style=\"font-family: Arial; font-weight:bold;font-size:1.5em;color:#00008B;\">Plotting Population Distribution: plt.hist(bins=100, Array of chisq distribution)\n",
    "- <span style=\"font-family: Arial; font-weight:bold;font-size:1.5em;color:#00008B;\">Plotting Sample Mean Distribution: plt.hist(bins=100, Array of Sampling Means)"
   ]
  },
  {
   "cell_type": "code",
   "execution_count": 19,
   "id": "c6266110",
   "metadata": {},
   "outputs": [],
   "source": [
    " import matplotlib.pyplot as plt\n",
    "%matplotlib inline"
   ]
  },
  {
   "cell_type": "code",
   "execution_count": 20,
   "id": "cb8313b0",
   "metadata": {},
   "outputs": [
    {
     "data": {
      "image/png": "[encoded data removed]",
      "text/plain": [
       "<Figure size 432x288 with 1 Axes>"
      ]
     },
     "metadata": {
      "needs_background": "light"
     },
     "output_type": "display_data"
    }
   ],
   "source": [
    "plt.hist(pop_sample, alpha=.5, bins=100);\n",
    "plt.hist(sample_props, alpha=.5, bins=100);"
   ]
  },
  {
   "cell_type": "markdown",
   "id": "b409119e",
   "metadata": {},
   "source": [
    "<span style=\"font-family: Arial; font-weight:bold;font-size:3em;color:#0e92ea;\"> Exercise 3: Introduction to Titanic Dataset"
   ]
  },
  {
   "cell_type": "markdown",
   "id": "2a6c84a5",
   "metadata": {},
   "source": [
    "<span style=\"font-family: Arial; font-weight:bold;font-size:1.5em;color:#00008B;\">1. Read the Titanic Dataset and write a code to extract values of third last and second last column. (Assume you do not know the name of the variables)"
   ]
  },
  {
   "cell_type": "code",
   "execution_count": 21,
   "id": "c8cb7561",
   "metadata": {},
   "outputs": [],
   "source": [
    "import numpy as np \n",
    "import pandas as pd \n",
    "from matplotlib import pyplot as plt\n",
    "import matplotlib.pyplot as plt\n",
    "import seaborn as sns\n",
    "import statsmodels.api as sm\n",
    "import scipy.stats as stats\n",
    "from scipy.stats import chisquare,chi2_contingency\n",
    "from scipy.stats import ttest_ind\n",
    "from scipy.stats import f_oneway\n",
    "from sklearn.preprocessing import LabelEncoder\n",
    "import warnings\n",
    "warnings.filterwarnings(\"ignore\")\n",
    "import copy"
   ]
  },
  {
   "cell_type": "code",
   "execution_count": 22,
   "id": "091e45a3",
   "metadata": {},
   "outputs": [],
   "source": [
    "titanic = pd.read_csv('C:\\\\Users\\\\Mohitha Panagam\\\\Downloads\\\\Refresher_Exercises\\\\titanic.csv')"
   ]
  },
  {
   "cell_type": "code",
   "execution_count": 23,
   "id": "cac2cfc6",
   "metadata": {
    "scrolled": true
   },
   "outputs": [
    {
     "name": "stdout",
     "output_type": "stream",
     "text": [
      "        Fare Cabin\n",
      "0     7.2500   NaN\n",
      "1    71.2833   C85\n",
      "2     7.9250   NaN\n",
      "3    53.1000  C123\n",
      "4     8.0500   NaN\n",
      "..       ...   ...\n",
      "886  13.0000   NaN\n",
      "887  30.0000   B42\n",
      "888  23.4500   NaN\n",
      "889  30.0000  C148\n",
      "890   7.7500   NaN\n",
      "\n",
      "[891 rows x 2 columns]\n"
     ]
    }
   ],
   "source": [
    "data_last_n = titanic.iloc[:, -3:-1]           # Select last columns\n",
    "print(data_last_n)  "
   ]
  },
  {
   "cell_type": "markdown",
   "id": "b8842b95",
   "metadata": {},
   "source": [
    "<span style=\"font-family: Arial; font-weight:bold;font-size:1.5em;color:#00008B;\"> 2. Lst = [‘Embarked’,’ Sex’,’ Pclass ‘] Print the value counts of these variables from the DataFrame (Hint: Take care of the whitespaces in variable name !)"
   ]
  },
  {
   "cell_type": "code",
   "execution_count": 24,
   "id": "a81e5560",
   "metadata": {},
   "outputs": [
    {
     "data": {
      "text/plain": [
       "Embarked  Sex     Pclass\n",
       "S         male    3         265\n",
       "                  2          97\n",
       "          female  3          88\n",
       "          male    1          79\n",
       "          female  2          67\n",
       "                  1          48\n",
       "C         female  1          43\n",
       "          male    3          43\n",
       "                  1          42\n",
       "Q         male    3          39\n",
       "          female  3          33\n",
       "C         female  3          23\n",
       "          male    2          10\n",
       "          female  2           7\n",
       "Q         female  2           2\n",
       "          male    2           1\n",
       "          female  1           1\n",
       "          male    1           1\n",
       "dtype: int64"
      ]
     },
     "execution_count": 24,
     "metadata": {},
     "output_type": "execute_result"
    }
   ],
   "source": [
    "titanic[[\"Embarked\", \"Sex\", \"Pclass\"]].value_counts()"
   ]
  },
  {
   "cell_type": "markdown",
   "id": "3c923e4e",
   "metadata": {},
   "source": [
    "<span style=\"font-family: Arial; font-weight:bold;font-size:1.5em;color:#00008B;\"> 3. Create a code to find which variables of Titanic Dataset are categorical:\n",
    "- <span style=\"font-family: Arial; font-weight:bold;font-size:1.5em;color:#00008B;\"> Categorical variables are generally character variables\n",
    "- <span style=\"font-family: Arial; font-weight:bold;font-size:1.5em;color:#00008B;\"> If a Numeric variable (dtype = ‘int64’ or ‘float64’), then it can be categorical if number of categories of the variable are < 5\n"
   ]
  },
  {
   "cell_type": "code",
   "execution_count": 25,
   "id": "e13d916e",
   "metadata": {},
   "outputs": [
    {
     "name": "stdout",
     "output_type": "stream",
     "text": [
      "<class 'pandas.core.frame.DataFrame'>\n",
      "RangeIndex: 891 entries, 0 to 890\n",
      "Data columns (total 12 columns):\n",
      " #   Column       Non-Null Count  Dtype  \n",
      "---  ------       --------------  -----  \n",
      " 0   PassengerId  891 non-null    int64  \n",
      " 1   Survived     891 non-null    int64  \n",
      " 2   Pclass       891 non-null    int64  \n",
      " 3   Name         891 non-null    object \n",
      " 4   Sex          891 non-null    object \n",
      " 5   Age          714 non-null    float64\n",
      " 6   SibSp        891 non-null    int64  \n",
      " 7   Parch        891 non-null    int64  \n",
      " 8   Ticket       891 non-null    object \n",
      " 9   Fare         891 non-null    float64\n",
      " 10  Cabin        204 non-null    object \n",
      " 11  Embarked     889 non-null    object \n",
      "dtypes: float64(2), int64(5), object(5)\n",
      "memory usage: 83.7+ KB\n"
     ]
    }
   ],
   "source": [
    "titanic.info()"
   ]
  },
  {
   "cell_type": "markdown",
   "id": "5ab90411",
   "metadata": {},
   "source": [
    "<span style=\"font-family: Arial; font-weight:bold;font-size:1.5em;color:#00008B;\"> 4. In a manner similar to fill rate, calculate the missing rate of all variables"
   ]
  },
  {
   "cell_type": "code",
   "execution_count": 26,
   "id": "5fe8af19",
   "metadata": {},
   "outputs": [
    {
     "data": {
      "text/plain": [
       "PassengerId     0.000000\n",
       "Survived        0.000000\n",
       "Pclass          0.000000\n",
       "Name            0.000000\n",
       "Sex             0.000000\n",
       "Age            19.865320\n",
       "SibSp           0.000000\n",
       "Parch           0.000000\n",
       "Ticket          0.000000\n",
       "Fare            0.000000\n",
       "Cabin          77.104377\n",
       "Embarked        0.224467\n",
       "dtype: float64"
      ]
     },
     "execution_count": 26,
     "metadata": {},
     "output_type": "execute_result"
    }
   ],
   "source": [
    "titanic.isnull().sum() * 100 / len(titanic)"
   ]
  }
 ],
 "metadata": {
  "kernelspec": {
   "display_name": "Python 3",
   "language": "python",
   "name": "python3"
  },
  "language_info": {
   "codemirror_mode": {
    "name": "ipython",
    "version": 3
   },
   "file_extension": ".py",
   "mimetype": "text/x-python",
   "name": "python",
   "nbconvert_exporter": "python",
   "pygments_lexer": "ipython3",
   "version": "3.9.12"
  }
 },
 "nbformat": 4,
 "nbformat_minor": 5
}
